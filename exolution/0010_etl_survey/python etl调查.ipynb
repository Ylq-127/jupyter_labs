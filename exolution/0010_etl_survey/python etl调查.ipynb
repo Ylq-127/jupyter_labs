{
 "cells": [
  {
   "cell_type": "markdown",
   "metadata": {},
   "source": [
    "## python的ETL框架"
   ]
  },
  {
   "cell_type": "markdown",
   "metadata": {},
   "source": [
    "* [petl](https://github.com/alimanfoo/petl) 350 stars 相当简陋而且很久没维护\n",
    "* [pygrametl](https://github.com/chrthomsen/pygrametl) 63 stars\n",
    "    * multiple datasource (csv, sql)\n",
    "        * joining source\n",
    "        * union source\n",
    "        * RoundRobinSource\n",
    "        * ProcessSource\n",
    "        * FilteringSource\n",
    "        * transformingSource\n",
    "        * forEachSource\n",
    "    * dimensions\n",
    "    \n",
    "* [bubble](https://github.com/stiivi/bubbles) 363 stars"
   ]
  },
  {
   "cell_type": "markdown",
   "metadata": {},
   "source": [
    "* 事务性要求\n",
    "* 降低思维负担，拆分成小的处理流程\n",
    "* 可以将多个小处理流组装成大处理流程\n",
    "* sql可以用流程图表示\n",
    "* 利用并行\n",
    "* 上游表的变更，删除，连锁反馈给下游表。\n",
    "* 对于积累表，上一天失败，下一天不能做。"
   ]
  },
  {
   "cell_type": "code",
   "execution_count": 6,
   "metadata": {
    "collapsed": true
   },
   "outputs": [],
   "source": [
    "from pandas import crosstab\n",
    "from numpy import array"
   ]
  },
  {
   "cell_type": "code",
   "execution_count": 9,
   "metadata": {
    "collapsed": false
   },
   "outputs": [
    {
     "data": {
      "text/html": [
       "<div>\n",
       "<table border=\"1\" class=\"dataframe\">\n",
       "  <thead>\n",
       "    <tr>\n",
       "      <th>B</th>\n",
       "      <th>a</th>\n",
       "      <th>b</th>\n",
       "      <th>c</th>\n",
       "    </tr>\n",
       "    <tr>\n",
       "      <th>C</th>\n",
       "      <th>x</th>\n",
       "      <th>y</th>\n",
       "      <th>y</th>\n",
       "    </tr>\n",
       "    <tr>\n",
       "      <th>A</th>\n",
       "      <th></th>\n",
       "      <th></th>\n",
       "      <th></th>\n",
       "    </tr>\n",
       "  </thead>\n",
       "  <tbody>\n",
       "    <tr>\n",
       "      <th>1</th>\n",
       "      <td>2</td>\n",
       "      <td>0</td>\n",
       "      <td>0</td>\n",
       "    </tr>\n",
       "    <tr>\n",
       "      <th>2</th>\n",
       "      <td>0</td>\n",
       "      <td>1</td>\n",
       "      <td>1</td>\n",
       "    </tr>\n",
       "  </tbody>\n",
       "</table>\n",
       "</div>"
      ],
      "text/plain": [
       "B  a  b  c\n",
       "C  x  y  y\n",
       "A         \n",
       "1  2  0  0\n",
       "2  0  1  1"
      ]
     },
     "execution_count": 9,
     "metadata": {},
     "output_type": "execute_result"
    }
   ],
   "source": [
    "a = array([1,1,2,2])\n",
    "b = array(['a','a','b','c'])\n",
    "c = array(['x','x','y','y'])\n",
    "\n",
    "crosstab(a,[b,c],rownames=['A'],colnames=['B','C'])"
   ]
  },
  {
   "cell_type": "markdown",
   "metadata": {},
   "source": [
    "* check_list\n",
    "    * 自动检查?及早发现问题\n",
    "* 对于路径配置等细节不要依赖于口头交流\n"
   ]
  },
  {
   "cell_type": "code",
   "execution_count": null,
   "metadata": {
    "collapsed": true
   },
   "outputs": [],
   "source": []
  }
 ],
 "metadata": {
  "kernelspec": {
   "display_name": "Python 3",
   "language": "python",
   "name": "python3"
  },
  "language_info": {
   "codemirror_mode": {
    "name": "ipython",
    "version": 3
   },
   "file_extension": ".py",
   "mimetype": "text/x-python",
   "name": "python",
   "nbconvert_exporter": "python",
   "pygments_lexer": "ipython3",
   "version": "3.5.2"
  }
 },
 "nbformat": 4,
 "nbformat_minor": 0
}
