{
 "cells": [
  {
   "cell_type": "markdown",
   "metadata": {},
   "source": [
    "![python logo](https://www.python.org/static/community_logos/python-logo-master-v3-TM.png)"
   ]
  },
  {
   "cell_type": "code",
   "execution_count": 11,
   "metadata": {
    "collapsed": true
   },
   "outputs": [],
   "source": [
    "# 这段代码定义了一个函数， 可以将相同的参数传给两个版本的函数后比较运行时间， 后面会用到， 默认重复100000次\n",
    "from timeit import timeit\n",
    "\n",
    "def func_compare(func_1, func_2, args = None, kwargs = None, n =1000000):\n",
    "    if args is None:\n",
    "        args =[]\n",
    "    if kwargs is None:\n",
    "        kwargs = {} \n",
    "        \n",
    "    print(\"func_1 result:\")\n",
    "    print(func_1(*args, **kwargs))\n",
    "    print()\n",
    "    \n",
    "    print(\"func_2 result:\")\n",
    "    print(func_2(*args, **kwargs)) \n",
    "    print()\n",
    "\n",
    "    t1 = timeit(lambda : func_1(*args, **kwargs), number = n)\n",
    "    t2 = timeit(lambda : func_2(*args, **kwargs), number = n)\n",
    "    \n",
    "    print('time: {t1:0.3f}s vs {t2:0.3f}s'.format(t1=t1, t2=t2))\n",
    "    print('----------------------')"
   ]
  },
  {
   "cell_type": "markdown",
   "metadata": {
    "slideshow": {
     "slide_type": "slide"
    }
   },
   "source": [
    "# 如何让代码更pythonic"
   ]
  },
  {
   "cell_type": "markdown",
   "metadata": {},
   "source": [
    "充分利用python的特点和功能， 可以让我们的代码更加的简洁， 有更好的可读性， 很多情况下也会带来更好的性能。 符合这样要求的代码也被python社区称为pythonic的代码。\n",
    "\n",
    "这个notebook主要举例一些使用python时遇到的场景。 针对这些场景， 给出两个版本的代码， 它们都实现了同样的功能， 但是第一个版本没有充分利用python特性，另一个版本则比较pythonic。"
   ]
  },
  {
   "cell_type": "markdown",
   "metadata": {},
   "source": [
    "## 利用tuple/list unpack机制进行批量的赋值"
   ]
  },
  {
   "cell_type": "markdown",
   "metadata": {},
   "source": [
    "### 1. 带有嵌套的tuple/list中的数值取出并赋值给多个变量\n",
    "\n",
    "从一个tuple/list中将数据取出， 赋值给几个不同的变量是一个常见的需求。有时候这个tuple/list中还会嵌套更多的tuple/list。\n",
    "\n",
    "下面的例子里， 我们有这样一个tuple"
   ]
  },
  {
   "cell_type": "code",
   "execution_count": 1,
   "metadata": {
    "collapsed": true
   },
   "outputs": [],
   "source": [
    "d = ('male',('Junjie', 'Cai'), 'cjj@jfpal.com', 'data engineer')"
   ]
  },
  {
   "cell_type": "code",
   "execution_count": 2,
   "metadata": {
    "collapsed": true
   },
   "outputs": [],
   "source": [
    "sex, (first_name, family_name), email, title = d"
   ]
  },
  {
   "cell_type": "markdown",
   "metadata": {},
   "source": [
    "现在希望将里面的性别， 姓， 名， 邮箱几个数据取出并赋值给相应的变量后， 然后用这些变量组成一个字符串返回。 "
   ]
  },
  {
   "cell_type": "code",
   "execution_count": 223,
   "metadata": {
    "collapsed": false
   },
   "outputs": [
    {
     "name": "stdout",
     "output_type": "stream",
     "text": [
      "func_1 result:\n",
      "Cai Junjie is a male data engineer with email:cjj@jfpal.com\n",
      "\n",
      "func_2 result:\n",
      "Cai Junjie is a male data engineer with email:cjj@jfpal.com\n",
      "\n",
      "time: 2.962s vs 2.548s\n",
      "----------------------\n"
     ]
    }
   ],
   "source": [
    "def func_ver_1(d):\n",
    "    sex = d[0]\n",
    "    email = d[2]\n",
    "    name = d[1]\n",
    "    family_name = name[1]\n",
    "    first_name = name[0]\n",
    "    title = d[3]\n",
    "    \n",
    "    return \"{family_name} {first_name} is a {sex} {title} with email:{email}\".format(**locals())\n",
    "    \n",
    "def func_ver_2(d):\n",
    "    sex, (first_name, family_name), email, title = d #注\n",
    "    \n",
    "    return \"{family_name} {first_name} is a {sex} {title} with email:{email}\".format(**locals())\n",
    "    \n",
    "d = ('male',('Junjie', 'Cai'), 'cjj@jfpal.com', 'data engineer')\n",
    "\n",
    "func_compare(func_ver_1, func_ver_2, [d])"
   ]
  },
  {
   "cell_type": "markdown",
   "metadata": {},
   "source": [
    "注:\n",
    "    \n",
    "只要让需要赋值的变量名， 组成和等号右边结构一致的tuple， 就能正确的批量赋值。 即使tuple/list内嵌套了别的tuple/list也没问题"
   ]
  },
  {
   "cell_type": "markdown",
   "metadata": {},
   "source": [
    "### 2.在循环体中利用unpacking\n",
    "\n",
    "现在有多个和上面的例子结构一样的tuple， 组成了一个list。"
   ]
  },
  {
   "cell_type": "code",
   "execution_count": 224,
   "metadata": {
    "collapsed": true
   },
   "outputs": [],
   "source": [
    "d_list = [\n",
    " ('male',('Junjie', 'Cai'), 'cjj@jfpal.com', 'data engineer'),\n",
    " ('male',('Hongfei', 'Bao'), 'bhf@jfpal.com', 'data engineer')    \n",
    "]"
   ]
  },
  {
   "cell_type": "markdown",
   "metadata": {},
   "source": [
    "现在需要循环体中将里面的性别， 姓， 名， 邮箱几个数据取出并赋值给相应的变量。"
   ]
  },
  {
   "cell_type": "code",
   "execution_count": 93,
   "metadata": {
    "collapsed": false
   },
   "outputs": [
    {
     "name": "stdout",
     "output_type": "stream",
     "text": [
      "func_1 result:\n",
      "['Cai Junjie is a male data engineer with email:cjj@jfpal.com', 'Bao Hongfei is a male data engineer with email:bhf@jfpal.com']\n",
      "\n",
      "func_2 result:\n",
      "['Cai Junjie is a male data engineer with email:cjj@jfpal.com', 'Bao Hongfei is a male data engineer with email:bhf@jfpal.com']\n",
      "\n",
      "time: 5.450s vs 4.767s\n",
      "----------------------\n"
     ]
    }
   ],
   "source": [
    "def func_ver_1(d_list):\n",
    "    str_list = []\n",
    "    \n",
    "    for d in d_list:\n",
    "        sex = d[0]\n",
    "        email = d[2]\n",
    "        name = d[1]\n",
    "        family_name = name[1]\n",
    "        first_name = name[0]\n",
    "        title = d[3]\n",
    "        \n",
    "        str_list.append(\"{family_name} {first_name} is a {sex} {title} with email:{email}\".format(**locals()))\n",
    "        \n",
    "    return str_list\n",
    "    \n",
    "    \n",
    "def func_ver_2(d):\n",
    "    str_list = []    \n",
    "    for sex, (first_name, family_name), email, title in d_list:      \n",
    "        str_list.append(\"{family_name} {first_name} is a {sex} {title} with email:{email}\".format(**locals()))        \n",
    "    \n",
    "    return str_list\n",
    "\n",
    "func_compare(func_ver_1, func_ver_2, [d_list])"
   ]
  },
  {
   "cell_type": "markdown",
   "metadata": {},
   "source": [
    "### 3.只选取tuple中开头和结尾部分的变量\n",
    "接第1个例子， 假设这里只需要取出第一个和最后一个变量"
   ]
  },
  {
   "cell_type": "code",
   "execution_count": 96,
   "metadata": {
    "collapsed": false
   },
   "outputs": [
    {
     "name": "stdout",
     "output_type": "stream",
     "text": [
      "func_1 result:\n",
      "Owner of cjj@jfpal.com is male\n",
      "\n",
      "func_2 result:\n",
      "Owner of cjj@jfpal.com is male\n",
      "\n",
      "time: 1.400s vs 1.658s\n",
      "----------------------\n"
     ]
    }
   ],
   "source": [
    "def func_ver_1(d):\n",
    "    sex = d[0]\n",
    "    email = d[2]\n",
    "    \n",
    "    return \"Owner of {email} is {sex}\".format(**locals())\n",
    "    \n",
    "def func_ver_2(d):\n",
    "    sex, *_, email = d #注\n",
    "    \n",
    "    return \"Owner of {email} is {sex}\".format(**locals())    \n",
    "    \n",
    "d = ('male',('Junjie', 'Cai'), 'cjj@jfpal.com')\n",
    "\n",
    "func_compare(func_ver_1, func_ver_2, [d])"
   ]
  },
  {
   "cell_type": "markdown",
   "metadata": {},
   "source": [
    "注:\n",
    "\n",
    "tuple/list unpacking是不能只选择头尾部分的数据的， 但是如果对tuple/list中间的部分不感兴趣， 可以用 **```*_```** 统一接收， 这样就会将中间段的数据放入变量名为**_**的list中， 后面代码不使用即可。\n",
    "\n",
    "注意这里使用**_**作为变量名， 只是一种约定， 表示unpacking后，这个变量存的信息代码的作者并不关心。 不过实际上使用任何合法的变量名都是可以的。\n"
   ]
  },
  {
   "cell_type": "markdown",
   "metadata": {},
   "source": [
    "### 4. 数值交换\n",
    "有a, b两个变量， "
   ]
  },
  {
   "cell_type": "code",
   "execution_count": 227,
   "metadata": {
    "collapsed": true
   },
   "outputs": [],
   "source": [
    "a = 1\n",
    "b = 10"
   ]
  },
  {
   "cell_type": "markdown",
   "metadata": {},
   "source": [
    "希望交换a, b两个变量的数值"
   ]
  },
  {
   "cell_type": "code",
   "execution_count": 228,
   "metadata": {
    "collapsed": false
   },
   "outputs": [
    {
     "name": "stdout",
     "output_type": "stream",
     "text": [
      "func_1 result:\n",
      "(10, 1)\n",
      "\n",
      "func_2 result:\n",
      "(10, 1)\n",
      "\n",
      "time: 0.396s vs 0.360s\n",
      "----------------------\n"
     ]
    }
   ],
   "source": [
    "def func_ver_1(a, b):\n",
    "    temp = b\n",
    "    b = a\n",
    "    a = temp\n",
    "    \n",
    "    return (a, b)\n",
    "\n",
    "def func_ver_2(a, b):\n",
    "    a, b = b, a #注\n",
    "    \n",
    "    return (a, b)\n",
    "\n",
    "func_compare(func_ver_1, func_ver_2, [a,b])"
   ]
  },
  {
   "cell_type": "markdown",
   "metadata": {},
   "source": [
    "注释：\n",
    "\n",
    "如果不是用在函数的参数列表， 不加()， python实际上也是创建了一个tuple哦"
   ]
  },
  {
   "cell_type": "code",
   "execution_count": 229,
   "metadata": {
    "collapsed": false
   },
   "outputs": [
    {
     "name": "stdout",
     "output_type": "stream",
     "text": [
      "<class 'tuple'>\n"
     ]
    }
   ],
   "source": [
    "x = 1,2\n",
    "print(type(x))"
   ]
  },
  {
   "cell_type": "markdown",
   "metadata": {},
   "source": [
    "所以这里的数值交换实际上还是利用了tuple/list unpacking的机制。 这种场景很容易推广到多个变量数值进行交换的情况"
   ]
  },
  {
   "cell_type": "code",
   "execution_count": 230,
   "metadata": {
    "collapsed": false
   },
   "outputs": [
    {
     "name": "stdout",
     "output_type": "stream",
     "text": [
      "3 1 2\n"
     ]
    }
   ],
   "source": [
    "a = 1\n",
    "b = 2\n",
    "c = 3\n",
    "\n",
    "b, c, a = a, b, c\n",
    "\n",
    "print(a, b, c)"
   ]
  },
  {
   "cell_type": "markdown",
   "metadata": {},
   "source": [
    "## 字符串的连接"
   ]
  },
  {
   "cell_type": "markdown",
   "metadata": {},
   "source": [
    "一个很常见的任务就是把list中的字符串用某个特定的字符进行拼接， 例如我们有这样一个list"
   ]
  },
  {
   "cell_type": "code",
   "execution_count": 12,
   "metadata": {
    "collapsed": true
   },
   "outputs": [],
   "source": [
    "s_list = ['To', 'be', 'or', 'not', 'to', 'be']"
   ]
  },
  {
   "cell_type": "markdown",
   "metadata": {},
   "source": [
    "希望把他们用空格去连接几个单词组成一个句子"
   ]
  },
  {
   "cell_type": "code",
   "execution_count": 13,
   "metadata": {
    "collapsed": false
   },
   "outputs": [
    {
     "name": "stdout",
     "output_type": "stream",
     "text": [
      "func_1 result:\n",
      "To be or not to be\n",
      "\n",
      "func_2 result:\n",
      "To be or not to be\n",
      "\n",
      "time: 1.512s vs 0.481s\n",
      "----------------------\n"
     ]
    }
   ],
   "source": [
    "def func_1(s_list, sep):\n",
    "    string = ''\n",
    "    for i, s in enumerate(s_list):\n",
    "        if i!=0:\n",
    "            string += sep+s\n",
    "        else:\n",
    "            string += s\n",
    "    return string\n",
    "\n",
    "def func_2(s_list,sep):\n",
    "    return sep.join(s_list)\n",
    "\n",
    "\n",
    "sep = ' '\n",
    "func_compare(func_1, func_2, [s_list, sep])"
   ]
  },
  {
   "cell_type": "markdown",
   "metadata": {},
   "source": [
    "第二个版本中， 用python内置的函数比自己去实现， 简洁度， 效率都高了不是一点点。"
   ]
  },
  {
   "cell_type": "markdown",
   "metadata": {},
   "source": [
    "## 二. 快速创建拥有相同值的list"
   ]
  },
  {
   "cell_type": "markdown",
   "metadata": {},
   "source": [
    "某时候我们需要快速的创建一个list， 里面的值是相同的。 \n",
    "\n",
    "例如， 我们创建一个长度为4的list, 其中每个位置的内容都是[0,0,0,0] "
   ]
  },
  {
   "cell_type": "code",
   "execution_count": 234,
   "metadata": {
    "collapsed": false
   },
   "outputs": [
    {
     "name": "stdout",
     "output_type": "stream",
     "text": [
      "func_1 result:\n",
      "[[0, 0, 0, 0], [0, 0, 0, 0], [0, 0, 0, 0], [0, 0, 0, 0]]\n",
      "\n",
      "func_2 result:\n",
      "[[0, 0, 0, 0], [0, 0, 0, 0], [0, 0, 0, 0], [0, 0, 0, 0]]\n",
      "\n",
      "time: 1.206s vs 0.554s\n",
      "----------------------\n"
     ]
    }
   ],
   "source": [
    "def func_1(v, n):\n",
    "    l = []\n",
    "    for i in range(n):\n",
    "        l.append(v)\n",
    "    return l\n",
    "\n",
    "def func_2(v, n):\n",
    "    return [v]*n\n",
    "\n",
    "func_compare(func_1, func_2, [[0,0,0,0],4])"
   ]
  },
  {
   "cell_type": "markdown",
   "metadata": {},
   "source": [
    "python提供的**```*```**运算符可以将list复制扩增。不过这里要注意的是, 这种方法创建的list中， 每个位置指向的都是同一个数据。 用下面的代码可以验证这点"
   ]
  },
  {
   "cell_type": "code",
   "execution_count": 20,
   "metadata": {
    "collapsed": false
   },
   "outputs": [
    {
     "data": {
      "text/plain": [
       "[5, 0, 0, 0]"
      ]
     },
     "execution_count": 20,
     "metadata": {},
     "output_type": "execute_result"
    }
   ],
   "source": [
    "x = [0]*4\n",
    "x[0] = 5\n",
    "x"
   ]
  },
  {
   "cell_type": "code",
   "execution_count": 16,
   "metadata": {
    "collapsed": false
   },
   "outputs": [
    {
     "data": {
      "text/plain": [
       "[[0, 0, 0, 0], [0, 0, 0, 0], [0, 0, 0, 0], [0, 0, 0, 0]]"
      ]
     },
     "execution_count": 16,
     "metadata": {},
     "output_type": "execute_result"
    }
   ],
   "source": [
    "a = [[0,0,0,0]]*4\n",
    "a"
   ]
  },
  {
   "cell_type": "code",
   "execution_count": 18,
   "metadata": {
    "collapsed": false
   },
   "outputs": [
    {
     "name": "stdout",
     "output_type": "stream",
     "text": [
      "True\n",
      "[[10, 0, 0, 0], [10, 0, 0, 0], [10, 0, 0, 0], [10, 0, 0, 0]]\n"
     ]
    }
   ],
   "source": [
    "print(a[0] is a[1]) #注1\n",
    "\n",
    "a[0][0] = 10\n",
    "print(a) #注2"
   ]
  },
  {
   "cell_type": "markdown",
   "metadata": {},
   "source": [
    "注释\n",
    "1. **is**运算符的结果为True， 说明a[0], a[1]其实指向的数据是内存中同一位置的数据\n",
    "2. 由于a[0], a[1], a[2], a[3]指向的是内存中同一位置的数据， 因此修改了a[0]后, a[1], a[2], a[3]也跟着变了\n",
    "\n",
    "如果真的只想修改a[0], 可以用以下的代码来实现"
   ]
  },
  {
   "cell_type": "code",
   "execution_count": 19,
   "metadata": {
    "collapsed": false
   },
   "outputs": [
    {
     "name": "stdout",
     "output_type": "stream",
     "text": [
      "[[10, 0, 0, 0], [0, 0, 0, 0], [0, 0, 0, 0], [0, 0, 0, 0]]\n"
     ]
    }
   ],
   "source": [
    "a = [[0,0,0,0]]*4\n",
    "\n",
    "b = a[0].copy()\n",
    "b[0] = 10 #注1\n",
    "\n",
    "a[0] = b #注2\n",
    "print(a)"
   ]
  },
  {
   "cell_type": "markdown",
   "metadata": {},
   "source": [
    "注释\n",
    "\n",
    "1. 由于b是从a[0] copy出来的，因此它的内容和a[0]一样， 但是在内存中和a[0]是不一样位置的数据, 修改b， 不会影响a[0]指向的数据。\n",
    "2. 让a[0]重新指向b"
   ]
  },
  {
   "cell_type": "markdown",
   "metadata": {},
   "source": [
    "## 判断for循环是否全部通过"
   ]
  },
  {
   "cell_type": "markdown",
   "metadata": {},
   "source": [
    "有时候我们要判断一个for循环是否中途被break掉还是“寿终正寝”。 \n",
    "\n",
    "例如下面判断list_a中每一个元素是否都属于list_b(这里暂时封印一下set...)"
   ]
  },
  {
   "cell_type": "code",
   "execution_count": 235,
   "metadata": {
    "collapsed": true
   },
   "outputs": [],
   "source": [
    "list_a = ['java','spark','python']\n",
    "list_b = ['java','html5','excel','spark','python']"
   ]
  },
  {
   "cell_type": "code",
   "execution_count": 236,
   "metadata": {
    "collapsed": false
   },
   "outputs": [
    {
     "name": "stdout",
     "output_type": "stream",
     "text": [
      "func_1 result:\n",
      "all item in list_a is in list_b\n",
      "\n",
      "func_2 result:\n",
      "all item in list_a is in list_b\n",
      "\n",
      "time: 0.746s vs 0.681s\n",
      "----------------------\n"
     ]
    }
   ],
   "source": [
    "def func_1(list_a, list_b):\n",
    "    is_all_in = True\n",
    "    \n",
    "    for x in list_a:\n",
    "        if not x in list_b:\n",
    "            is_all_in = False\n",
    "            break\n",
    "            \n",
    "    if is_all_in:\n",
    "        return 'all item in list_a is in list_b'\n",
    "    else:\n",
    "        return 'not all item in list_a is in list_b'        \n",
    "        \n",
    "def func_2(available, demand):\n",
    "    for x in list_a:\n",
    "        if not x in list_b:\n",
    "            return 'not all item in list_a is in list_b'        \n",
    "    else: #注1\n",
    "        return 'all item in list_a is in list_b'\n",
    "        \n",
    "func_compare(func_1, func_2, [list_a, list_b])"
   ]
  },
  {
   "cell_type": "markdown",
   "metadata": {},
   "source": [
    "注释:\n",
    "1. for ...else...中的else刚接触会觉得有点别扭， 总之记住如果for循环部分执行了break， 或者出现Exception， else分支就不会被执行即可。 利用这个语句可以省掉一个flag去标记for循环是否中途被break掉。\n",
    "\n",
    "当然， 这里只是为了举例需要， 真的需要判断list_a的所有元素是否在list_b中， 用set更简单。"
   ]
  },
  {
   "cell_type": "code",
   "execution_count": 146,
   "metadata": {
    "collapsed": false
   },
   "outputs": [
    {
     "name": "stdout",
     "output_type": "stream",
     "text": [
      "True\n"
     ]
    }
   ],
   "source": [
    "list_a = ['java','spark','python']\n",
    "list_b = ['java','html5','excel','spark','python']\n",
    "\n",
    "print(set(list_a)<=set(list_b)) #注"
   ]
  },
  {
   "cell_type": "markdown",
   "metadata": {},
   "source": [
    "```<=```用在set上， 可以用于判断一个集合是否是另一个集合的子集"
   ]
  },
  {
   "cell_type": "markdown",
   "metadata": {},
   "source": [
    "## 10>c>b>a>0"
   ]
  },
  {
   "cell_type": "markdown",
   "metadata": {},
   "source": [
    "如何判断10>c>b>a>0?"
   ]
  },
  {
   "cell_type": "code",
   "execution_count": 23,
   "metadata": {
    "collapsed": false
   },
   "outputs": [
    {
     "name": "stdout",
     "output_type": "stream",
     "text": [
      "func_1 result:\n",
      "True\n",
      "\n",
      "func_2 result:\n",
      "True\n",
      "\n",
      "time: 0.408s vs 0.409s\n",
      "----------------------\n"
     ]
    }
   ],
   "source": [
    "def func_ver_1(a,b,c):\n",
    "    return (10>c) and (c>b) and (b>a) and (a>0)\n",
    "        \n",
    "\n",
    "def func_ver_2(a, b, c):\n",
    "    return 10>c>b>a>0 #注1\n",
    "\n",
    "a = 1\n",
    "b = 3\n",
    "c = 5\n",
    "\n",
    "func_compare(func_ver_1, func_ver_2, [a, b, c])"
   ]
  },
  {
   "cell_type": "markdown",
   "metadata": {},
   "source": [
    "注释:\n",
    "\n",
    "1. 几乎每个学C语言的同学都会被老师告诫不能这么写， 不过这种写法在python确是完全可以的哦。"
   ]
  },
  {
   "cell_type": "markdown",
   "metadata": {},
   "source": [
    "## 判断空容器和空值"
   ]
  },
  {
   "cell_type": "markdown",
   "metadata": {},
   "source": [
    "### 1.判断容器为空"
   ]
  },
  {
   "cell_type": "markdown",
   "metadata": {},
   "source": [
    "下面的例子里， 我们检查一个list是否为空， 如果是， 返回True， 否则返回False"
   ]
  },
  {
   "cell_type": "code",
   "execution_count": 24,
   "metadata": {
    "collapsed": false
   },
   "outputs": [
    {
     "name": "stdout",
     "output_type": "stream",
     "text": [
      "func_1 result:\n",
      "False\n",
      "\n",
      "func_2 result:\n",
      "False\n",
      "\n",
      "time: 0.379s vs 0.315s\n",
      "----------------------\n"
     ]
    }
   ],
   "source": [
    "def func_ver_1(l):\n",
    "    if len(l)>0:\n",
    "        return True\n",
    "    else:\n",
    "        return False\n",
    "        \n",
    "def func_ver_2(l):\n",
    "    if l: #注1\n",
    "        return True\n",
    "    else:\n",
    "        return False      \n",
    "        \n",
    "l = []\n",
    "\n",
    "func_compare(func_ver_1, func_ver_2, [[]])"
   ]
  },
  {
   "cell_type": "markdown",
   "metadata": {},
   "source": [
    "注:\n",
    "1. 如果把list直接用在if语句中， 那么如果它们是空的， 对于if相当于False， 否则为True。 因此如果目的是判断它们是否为空， 就不用额外的使用len求长度了。 这点同样适用于tuple, set, dict, string, 见下面代码"
   ]
  },
  {
   "cell_type": "code",
   "execution_count": 25,
   "metadata": {
    "collapsed": false
   },
   "outputs": [
    {
     "name": "stdout",
     "output_type": "stream",
     "text": [
      "tuple is empty\n",
      "set is empty\n",
      "dict is empty\n",
      "string is empty\n"
     ]
    }
   ],
   "source": [
    "if ():\n",
    "    pass\n",
    "else:\n",
    "    print('tuple is empty')\n",
    "    \n",
    "if set():\n",
    "    pass\n",
    "else:    \n",
    "    print('set is empty')\n",
    "    \n",
    "if {}:\n",
    "    pass\n",
    "else:    \n",
    "    print('dict is empty')\n",
    "    \n",
    "if \"\":\n",
    "    pass\n",
    "else:    \n",
    "    print('string is empty')    "
   ]
  },
  {
   "cell_type": "markdown",
   "metadata": {},
   "source": [
    "不过很遗憾， 对于数据分析常用的pandas.DataFrame和pandas.Series， 并不支持这个特征， 直接放在if里会报错。"
   ]
  },
  {
   "cell_type": "code",
   "execution_count": 241,
   "metadata": {
    "collapsed": false
   },
   "outputs": [
    {
     "ename": "ValueError",
     "evalue": "The truth value of a DataFrame is ambiguous. Use a.empty, a.bool(), a.item(), a.any() or a.all().",
     "output_type": "error",
     "traceback": [
      "\u001b[0;31m---------------------------------------------------------------------------\u001b[0m",
      "\u001b[0;31mValueError\u001b[0m                                Traceback (most recent call last)",
      "\u001b[0;32m<ipython-input-241-89eb3ebe44fe>\u001b[0m in \u001b[0;36m<module>\u001b[0;34m()\u001b[0m\n\u001b[1;32m      1\u001b[0m \u001b[0;32mfrom\u001b[0m \u001b[0mpandas\u001b[0m \u001b[0;32mimport\u001b[0m \u001b[0mDataFrame\u001b[0m\u001b[0;34m\u001b[0m\u001b[0m\n\u001b[0;32m----> 2\u001b[0;31m \u001b[0;32mif\u001b[0m \u001b[0mDataFrame\u001b[0m\u001b[0;34m(\u001b[0m\u001b[0;34m)\u001b[0m\u001b[0;34m:\u001b[0m\u001b[0;34m\u001b[0m\u001b[0m\n\u001b[0m\u001b[1;32m      3\u001b[0m     \u001b[0;32mpass\u001b[0m\u001b[0;34m\u001b[0m\u001b[0m\n\u001b[1;32m      4\u001b[0m \u001b[0;32melse\u001b[0m\u001b[0;34m:\u001b[0m\u001b[0;34m\u001b[0m\u001b[0m\n\u001b[1;32m      5\u001b[0m     \u001b[0mprint\u001b[0m\u001b[0;34m(\u001b[0m\u001b[0;34m'DataFrame is empty'\u001b[0m\u001b[0;34m)\u001b[0m\u001b[0;34m\u001b[0m\u001b[0m\n",
      "\u001b[0;32m/home/exolution/anaconda3/lib/python3.5/site-packages/pandas/core/generic.py\u001b[0m in \u001b[0;36m__nonzero__\u001b[0;34m(self)\u001b[0m\n\u001b[1;32m    890\u001b[0m         raise ValueError(\"The truth value of a {0} is ambiguous. \"\n\u001b[1;32m    891\u001b[0m                          \u001b[0;34m\"Use a.empty, a.bool(), a.item(), a.any() or a.all().\"\u001b[0m\u001b[0;34m\u001b[0m\u001b[0m\n\u001b[0;32m--> 892\u001b[0;31m                          .format(self.__class__.__name__))\n\u001b[0m\u001b[1;32m    893\u001b[0m \u001b[0;34m\u001b[0m\u001b[0m\n\u001b[1;32m    894\u001b[0m     \u001b[0m__bool__\u001b[0m \u001b[0;34m=\u001b[0m \u001b[0m__nonzero__\u001b[0m\u001b[0;34m\u001b[0m\u001b[0m\n",
      "\u001b[0;31mValueError\u001b[0m: The truth value of a DataFrame is ambiguous. Use a.empty, a.bool(), a.item(), a.any() or a.all()."
     ]
    }
   ],
   "source": [
    "from pandas import DataFrame\n",
    "if DataFrame():\n",
    "    pass\n",
    "else:\n",
    "    print('DataFrame is empty')   "
   ]
  },
  {
   "cell_type": "markdown",
   "metadata": {},
   "source": [
    "### 2. 判断数据是否是None"
   ]
  },
  {
   "cell_type": "markdown",
   "metadata": {},
   "source": [
    "这里假设数据是None返回False, 否则返回Yes"
   ]
  },
  {
   "cell_type": "code",
   "execution_count": 242,
   "metadata": {
    "collapsed": false
   },
   "outputs": [
    {
     "name": "stdout",
     "output_type": "stream",
     "text": [
      "func_1 result:\n",
      "True\n",
      "\n",
      "func_2 result:\n",
      "True\n",
      "\n",
      "time: 0.406s vs 0.334s\n",
      "----------------------\n"
     ]
    }
   ],
   "source": [
    "def func_ver_1(l):\n",
    "    if x is None:\n",
    "        return True\n",
    "    else:\n",
    "        return False\n",
    "        \n",
    "def func_ver_2(l):\n",
    "    if x: #注1\n",
    "        return False\n",
    "    else:\n",
    "        return True\n",
    "        \n",
    "x = None\n",
    "\n",
    "func_compare(func_ver_1, func_ver_2, [[]])"
   ]
  },
  {
   "cell_type": "markdown",
   "metadata": {},
   "source": [
    "注释：\n",
    "\n",
    "1. 如果将None直接用在if中， 相当于False， 因此可以利用这点很方便的判断一个数据是否为None"
   ]
  },
  {
   "cell_type": "markdown",
   "metadata": {},
   "source": [
    "## 从一个list/ dict筛选，变换成另一个list/dict"
   ]
  },
  {
   "cell_type": "markdown",
   "metadata": {},
   "source": [
    "### 1. list快速变换\n",
    "假设下面把list中的偶数取出， 求平方后存在另一个list"
   ]
  },
  {
   "cell_type": "code",
   "execution_count": 243,
   "metadata": {
    "collapsed": true
   },
   "outputs": [],
   "source": [
    "l = [1,2,3,4,5,6,7,8,9,10]"
   ]
  },
  {
   "cell_type": "code",
   "execution_count": 28,
   "metadata": {
    "collapsed": false
   },
   "outputs": [
    {
     "name": "stdout",
     "output_type": "stream",
     "text": [
      "func_1 result:\n",
      "[]\n",
      "\n",
      "func_2 result:\n",
      "[]\n",
      "\n",
      "time: 0.374s vs 0.485s\n",
      "----------------------\n"
     ]
    }
   ],
   "source": [
    "def func_ver_1(l):\n",
    "    new_list = []\n",
    "    for v in l:\n",
    "        if v%2==0:\n",
    "            new_list.append(v**2)\n",
    "    return new_list\n",
    "\n",
    "def func_ver_2(l):\n",
    "    return [v**2 for v in l if v%2==0] #注1\n",
    "\n",
    "\n",
    "\n",
    "func_compare(func_ver_1, func_ver_2, [l])"
   ]
  },
  {
   "cell_type": "markdown",
   "metadata": {},
   "source": [
    "注\n",
    "1. 这里利用了python提供的list comprehension功能"
   ]
  },
  {
   "cell_type": "markdown",
   "metadata": {},
   "source": [
    "### 2. dict筛选变换\n",
    "\n",
    "下面的场景是有这样一个dict"
   ]
  },
  {
   "cell_type": "code",
   "execution_count": 30,
   "metadata": {
    "collapsed": false
   },
   "outputs": [],
   "source": [
    "d = {1:'apple', 2:'peach', 3:'melon', 4:'banana'}"
   ]
  },
  {
   "cell_type": "markdown",
   "metadata": {},
   "source": [
    "把key为偶数的item取出后， 将value变成大写， 然后将这个key-value pair存入新的dict"
   ]
  },
  {
   "cell_type": "code",
   "execution_count": 248,
   "metadata": {
    "collapsed": false
   },
   "outputs": [
    {
     "name": "stdout",
     "output_type": "stream",
     "text": [
      "func_1 result:\n",
      "{2: 'PEACH', 4: 'BANANA'}\n",
      "\n",
      "func_2 result:\n",
      "{2: 'PEACH', 4: 'BANANA'}\n",
      "\n",
      "time: 1.388s vs 1.543s\n",
      "----------------------\n"
     ]
    }
   ],
   "source": [
    "def func_ver_1(d):\n",
    "    new_dict = {}\n",
    "    for k in d:\n",
    "        if k%2==0:\n",
    "            new_dict[k] = d[k].upper()\n",
    "    return new_dict            \n",
    "    \n",
    "def func_ver_2(d):\n",
    "    return {k:v.upper() for k,v in d.items() if k%2==0} #注1\n",
    "\n",
    "d = {1:'apple', 2:'peach', 3:'melon', 4:'banana'}\n",
    "func_compare(func_ver_1, func_ver_2, [d])"
   ]
  },
  {
   "cell_type": "markdown",
   "metadata": {},
   "source": [
    "注释:\n",
    "\n",
    "1. 这里需要同时遍历dict的key， value, 因此需要对d调用items()函数。 生成一个能生成包含key, value构成的tuple的dict_items类型"
   ]
  },
  {
   "cell_type": "code",
   "execution_count": 252,
   "metadata": {
    "collapsed": false
   },
   "outputs": [
    {
     "name": "stdout",
     "output_type": "stream",
     "text": [
      "dict_items([(1, 'apple'), (2, 'peach'), (3, 'melon'), (4, 'banana')])\n"
     ]
    }
   ],
   "source": [
    "iterator = d.items()\n",
    "print(iterator)"
   ]
  },
  {
   "cell_type": "markdown",
   "metadata": {},
   "source": [
    "## 用两个list创建一个dict"
   ]
  },
  {
   "cell_type": "markdown",
   "metadata": {},
   "source": [
    "一个list提供key, 另一个list提供value"
   ]
  },
  {
   "cell_type": "code",
   "execution_count": 36,
   "metadata": {
    "collapsed": false
   },
   "outputs": [
    {
     "name": "stdout",
     "output_type": "stream",
     "text": [
      "func_1 result:\n",
      "{'b': 2, 'c': 3, 'a': 1}\n",
      "\n",
      "func_2 result:\n",
      "{'b': 2, 'c': 3, 'a': 1}\n",
      "\n",
      "time: 0.923s vs 1.191s\n",
      "----------------------\n"
     ]
    }
   ],
   "source": [
    "def func_1(l_key, v_key):\n",
    "    d = {}\n",
    "    for i, v in enumerate(l_key):\n",
    "        d[v] = v_key[i]\n",
    "    return d\n",
    "\n",
    "def func_2(l_key, v_key):\n",
    "    return dict(zip(l_key, v_key)) #注1\n",
    "\n",
    "\n",
    "\n",
    "func_compare(func_1, func_2, [l_key, l_value])"
   ]
  },
  {
   "cell_type": "markdown",
   "metadata": {},
   "source": [
    "注释\n",
    "\n",
    "1. 这里利用zip函数将两个list合并成一个generator, generator会按顺序输出一系列tuple, tuple中的数据分别来自两个list. 见下面代码。"
   ]
  },
  {
   "cell_type": "code",
   "execution_count": 205,
   "metadata": {
    "collapsed": false
   },
   "outputs": [
    {
     "name": "stdout",
     "output_type": "stream",
     "text": [
      "('a', 1)\n",
      "('b', 2)\n",
      "('c', 3)\n"
     ]
    }
   ],
   "source": [
    "list_a = ['a','b','c']\n",
    "list_b = [1,2,3]\n",
    "\n",
    "z = zip(list_a, list_b)\n",
    "print(next(z))\n",
    "print(next(z))\n",
    "print(next(z))"
   ]
  },
  {
   "cell_type": "markdown",
   "metadata": {},
   "source": [
    "之后dict()函数从这一系列tuple中的取一项作为key, 第二项作为value"
   ]
  },
  {
   "cell_type": "markdown",
   "metadata": {},
   "source": [
    "##  确保打开的资源被正确关闭"
   ]
  },
  {
   "cell_type": "markdown",
   "metadata": {},
   "source": [
    "下面的场景里， 我们要确保打开了一个文件后， 要确保它们被关闭"
   ]
  },
  {
   "cell_type": "code",
   "execution_count": 209,
   "metadata": {
    "collapsed": false
   },
   "outputs": [
    {
     "name": "stdout",
     "output_type": "stream",
     "text": [
      "func_1 result:\n",
      "None\n",
      "\n",
      "func_2 result:\n",
      "None\n",
      "\n",
      "time: 25.202s vs 25.910s\n",
      "----------------------\n"
     ]
    }
   ],
   "source": [
    "def func_ver_1(file_name):\n",
    "    try:\n",
    "        f = open(file_name, 'w')        \n",
    "        #对f做所需的操作， 这里略过\n",
    "    except Exception as e:\n",
    "        pass\n",
    "    finally:\n",
    "        f.close()\n",
    "\n",
    "def func_ver_2(file_name):\n",
    "    with open(file_name, 'w') as f: #注1\n",
    "        #对f做所需的操作， 这里略过        \n",
    "        pass\n",
    "    \n",
    "file_name = 'test_temp_file.txt'\n",
    "func_compare(func_ver_1, func_ver_2, [file_name])\n"
   ]
  },
  {
   "cell_type": "markdown",
   "metadata": {},
   "source": [
    "注释\n",
    "\n",
    "1. 在with语句去打开文件， 将对这个文件所需的处理语句放在with中， 这样可以确、无论这些语句是否raise Exception， context manager都能保证文件都能被关闭。 可以省掉一大块try, except, finnaly组合， 让代码简洁不少。\n",
    "\n",
    "    其他一些连接数据资源， 比如连接数据库的函数， 一般也会支持这种用法。 \n",
    "\n"
   ]
  },
  {
   "cell_type": "markdown",
   "metadata": {
    "slideshow": {
     "slide_type": "subslide"
    }
   },
   "source": [
    "## 判断数据的类型"
   ]
  },
  {
   "cell_type": "markdown",
   "metadata": {},
   "source": [
    "下面我们判断a是否是tuple或list, 是的话返回True, 否则False"
   ]
  },
  {
   "cell_type": "code",
   "execution_count": 37,
   "metadata": {
    "collapsed": true
   },
   "outputs": [],
   "source": [
    "a = (1, 2, 3)"
   ]
  },
  {
   "cell_type": "code",
   "execution_count": null,
   "metadata": {
    "collapsed": true
   },
   "outputs": [],
   "source": [
    "判断函数可以用callable"
   ]
  },
  {
   "cell_type": "code",
   "execution_count": 49,
   "metadata": {
    "collapsed": false
   },
   "outputs": [
    {
     "data": {
      "text/plain": [
       "True"
      ]
     },
     "execution_count": 49,
     "metadata": {},
     "output_type": "execute_result"
    }
   ],
   "source": [
    "def a():\n",
    "    pass\n",
    "\n",
    "callable(a)"
   ]
  },
  {
   "cell_type": "code",
   "execution_count": 212,
   "metadata": {
    "collapsed": false,
    "slideshow": {
     "slide_type": "fragment"
    }
   },
   "outputs": [
    {
     "name": "stdout",
     "output_type": "stream",
     "text": [
      "func_1 result:\n",
      "True\n",
      "\n",
      "func_2 result:\n",
      "True\n",
      "\n",
      "time: 1.303s vs 0.624s\n",
      "----------------------\n"
     ]
    }
   ],
   "source": [
    "def func_ver_1(a):\n",
    "    if (str(type(a)) == \"<class 'tuple'>\") or (str(type(a)) == \"<class 'list'>\"):\n",
    "        return True\n",
    "    else:\n",
    "        return False\n",
    "    \n",
    "def func_ver_2(a):\n",
    "    if isinstance(a, (tuple, list)): #注1\n",
    "        return True\n",
    "    else:\n",
    "        return False\n",
    "    \n",
    "\n",
    "func_compare(func_ver_1, func_ver_2, [a])"
   ]
  },
  {
   "cell_type": "markdown",
   "metadata": {
    "slideshow": {
     "slide_type": "fragment"
    }
   },
   "source": [
    "注释\n",
    "\n",
    "1. 由于很多python教材都会在早期的时候引入对type函数的介绍， 因此初学者可能会很长时间内使用type去判断数据的类型。 不过isinstance是更好的选择。"
   ]
  },
  {
   "cell_type": "markdown",
   "metadata": {},
   "source": [
    "# 应对不合法的输入参数\n"
   ]
  },
  {
   "cell_type": "markdown",
   "metadata": {},
   "source": [
    "有时候我们需要考虑到输入的参数可能不合法的问题。 不过与其每次都检查一下输入参数的类型， 不妨将这个问题交给try, except机制去处理。\n",
    "\n",
    "下面的例子里， 我们实现一个对两个数值求sum的功能， 如果输入参数并不能参与sum计算， 那么返回None"
   ]
  },
  {
   "cell_type": "code",
   "execution_count": 50,
   "metadata": {
    "collapsed": false
   },
   "outputs": [
    {
     "ename": "NameError",
     "evalue": "name 'func1' is not defined",
     "output_type": "error",
     "traceback": [
      "\u001b[0;31m---------------------------------------------------------------------------\u001b[0m",
      "\u001b[0;31mNameError\u001b[0m                                 Traceback (most recent call last)",
      "\u001b[0;32m<ipython-input-50-b6731c3b81ed>\u001b[0m in \u001b[0;36m<module>\u001b[0;34m()\u001b[0m\n\u001b[1;32m     13\u001b[0m         \u001b[0;32mreturn\u001b[0m \u001b[0;32mNone\u001b[0m\u001b[0;34m\u001b[0m\u001b[0m\n\u001b[1;32m     14\u001b[0m \u001b[0;34m\u001b[0m\u001b[0m\n\u001b[0;32m---> 15\u001b[0;31m \u001b[0mfunc_compare\u001b[0m\u001b[0;34m(\u001b[0m\u001b[0mfunc1\u001b[0m\u001b[0;34m,\u001b[0m \u001b[0mfunc2\u001b[0m\u001b[0;34m,\u001b[0m \u001b[0;34m[\u001b[0m\u001b[0;36m5\u001b[0m\u001b[0;34m,\u001b[0m\u001b[0;36m10\u001b[0m\u001b[0;34m]\u001b[0m\u001b[0;34m)\u001b[0m\u001b[0;34m\u001b[0m\u001b[0m\n\u001b[0m",
      "\u001b[0;31mNameError\u001b[0m: name 'func1' is not defined"
     ]
    }
   ],
   "source": [
    "\n",
    "def func_ver_1(a, b):\n",
    "    if isinstance(a, (float,int)) and isinstance(b, (float, int)):\n",
    "        return sum([a, b])\n",
    "    else:\n",
    "        return None\n",
    "\n",
    "        \n",
    "def func_ver_2(a, b):\n",
    "    try:\n",
    "        return sum([a, b])\n",
    "    except TypeError:\n",
    "        return None\n",
    "    \n",
    "func_compare(func1, func2, [5,10])"
   ]
  },
  {
   "cell_type": "markdown",
   "metadata": {},
   "source": [
    "第二个版本的代码中， 我们不去主动检验输入参数的合法性， 而是由try, except去处理可能发生的问题， 简化了代码。 \n",
    "\n",
    "而且由于类型判断本身也是一个耗时的步骤， 第二个版本的函书省略了类型判断的步骤， 效率也更高。"
   ]
  },
  {
   "cell_type": "markdown",
   "metadata": {},
   "source": [
    "# 跨行的字符串连接"
   ]
  },
  {
   "cell_type": "code",
   "execution_count": 51,
   "metadata": {
    "collapsed": false
   },
   "outputs": [
    {
     "data": {
      "text/plain": [
       "'For a long time I used to go to bed early. Sometimes, when I had put out my candle, my eyes would close so quickly that I had not even time to say “I’m going to sleep.”'"
      ]
     },
     "execution_count": 51,
     "metadata": {},
     "output_type": "execute_result"
    }
   ],
   "source": [
    "my_very_big_string = (\n",
    "    \"For a long time I used to go to bed early. Sometimes, \"\n",
    "    \"when I had put out my candle, my eyes would close so quickly \"\n",
    "    \"that I had not even time to say “I’m going to sleep.”\"\n",
    ")\n",
    "\n",
    "my_very_big_string"
   ]
  }
 ],
 "metadata": {
  "celltoolbar": "Slideshow",
  "kernelspec": {
   "display_name": "Python 3",
   "language": "python",
   "name": "python3"
  },
  "language_info": {
   "codemirror_mode": {
    "name": "ipython",
    "version": 3
   },
   "file_extension": ".py",
   "mimetype": "text/x-python",
   "name": "python",
   "nbconvert_exporter": "python",
   "pygments_lexer": "ipython3",
   "version": "3.5.2"
  }
 },
 "nbformat": 4,
 "nbformat_minor": 0
}
