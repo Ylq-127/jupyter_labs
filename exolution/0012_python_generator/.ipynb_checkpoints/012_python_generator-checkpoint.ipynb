{
 "cells": [
  {
   "cell_type": "markdown",
   "metadata": {},
   "source": [
    "generator定义了生成的规则，采用lazy evaluation，只有被调用的时候才会执行计算。可以省不少内存，并且能够生成无限多的序列。"
   ]
  },
  {
   "cell_type": "markdown",
   "metadata": {},
   "source": [
    "不要被def语法迷惑，def配合yield的时候，可以理解成定义Object的简便语法。"
   ]
  },
  {
   "cell_type": "code",
   "execution_count": 121,
   "metadata": {
    "collapsed": true
   },
   "outputs": [],
   "source": [
    "def fibonacci(a=1, b=1):\n",
    "    while True:\n",
    "        yield a+b\n",
    "        a, b = b, a+b"
   ]
  },
  {
   "cell_type": "code",
   "execution_count": 122,
   "metadata": {
    "collapsed": false
   },
   "outputs": [],
   "source": [
    "g = fibonacci()"
   ]
  },
  {
   "cell_type": "code",
   "execution_count": 123,
   "metadata": {
    "collapsed": false
   },
   "outputs": [
    {
     "name": "stdout",
     "output_type": "stream",
     "text": [
      "2\n",
      "3\n",
      "5\n",
      "8\n",
      "13\n",
      "21\n"
     ]
    }
   ],
   "source": [
    "print(next(g))\n",
    "print(next(g))\n",
    "print(next(g))\n",
    "print(next(g))\n",
    "print(next(g))\n",
    "print(next(g))"
   ]
  },
  {
   "cell_type": "code",
   "execution_count": 124,
   "metadata": {
    "collapsed": true
   },
   "outputs": [],
   "source": [
    "class Fibonacci():\n",
    "    def __init__(self):\n",
    "        self.a = 1\n",
    "        self.b = 1      \n",
    "        \n",
    "    def __next__(self):\n",
    "        c = self.a+self.b\n",
    "        self.a, self.b = self.b, self.a+self.b\n",
    "        return c   "
   ]
  },
  {
   "cell_type": "code",
   "execution_count": 140,
   "metadata": {
    "collapsed": false
   },
   "outputs": [
    {
     "name": "stdout",
     "output_type": "stream",
     "text": [
      "2\n",
      "3\n",
      "5\n",
      "8\n",
      "13\n",
      "21\n"
     ]
    }
   ],
   "source": [
    "f = Fibonacci()\n",
    "print(next(f))\n",
    "print(next(f))\n",
    "print(next(f))\n",
    "print(next(f))\n",
    "print(next(f))\n",
    "print(next(f))"
   ]
  },
  {
   "cell_type": "markdown",
   "metadata": {},
   "source": [
    "## 让generator接受数据并改变状态"
   ]
  },
  {
   "cell_type": "code",
   "execution_count": 136,
   "metadata": {
    "collapsed": true
   },
   "outputs": [],
   "source": [
    "def fibonacci(a=1, b=1):\n",
    "    while True:\n",
    "        inputs = (yield a+b)\n",
    "        if inputs:\n",
    "            a, b = inputs\n",
    "        else:            \n",
    "            a, b = b, a+b"
   ]
  },
  {
   "cell_type": "code",
   "execution_count": 137,
   "metadata": {
    "collapsed": true
   },
   "outputs": [],
   "source": [
    "g = fibonacci()"
   ]
  },
  {
   "cell_type": "code",
   "execution_count": 138,
   "metadata": {
    "collapsed": false
   },
   "outputs": [
    {
     "name": "stdout",
     "output_type": "stream",
     "text": [
      "2\n",
      "3\n",
      "5\n",
      "8\n",
      "13\n",
      "21\n",
      "3\n"
     ]
    }
   ],
   "source": [
    "print(next(g))\n",
    "print(next(g))\n",
    "print(next(g))\n",
    "print(next(g))\n",
    "print(next(g))\n",
    "print(next(g))\n",
    "g.send([1,1])\n",
    "print(next(g))"
   ]
  },
  {
   "cell_type": "code",
   "execution_count": 141,
   "metadata": {
    "collapsed": true
   },
   "outputs": [],
   "source": [
    "class Fibonacci():\n",
    "    def __init__(self):\n",
    "        self.a = 1\n",
    "        self.b = 1      \n",
    "        \n",
    "    def __next__(self):\n",
    "        c = self.a+self.b\n",
    "        self.a, self.b = self.b, self.a+self.b\n",
    "        return c\n",
    "    \n",
    "    def send(self,inputs):\n",
    "        self.a, self.b = inputs        "
   ]
  },
  {
   "cell_type": "code",
   "execution_count": 153,
   "metadata": {
    "collapsed": false
   },
   "outputs": [
    {
     "name": "stdout",
     "output_type": "stream",
     "text": [
      "2\n",
      "3\n",
      "5\n",
      "8\n",
      "13\n",
      "21\n",
      "2\n"
     ]
    }
   ],
   "source": [
    "f = Fibonacci()\n",
    "print(next(f))\n",
    "print(next(f))\n",
    "print(next(f))\n",
    "print(next(f))\n",
    "print(next(f))\n",
    "print(next(f))\n",
    "f.send([1,1])\n",
    "print(next(f))"
   ]
  },
  {
   "cell_type": "code",
   "execution_count": 185,
   "metadata": {
    "collapsed": true
   },
   "outputs": [],
   "source": [
    "a = 1\n",
    "b = 1"
   ]
  },
  {
   "cell_type": "code",
   "execution_count": 186,
   "metadata": {
    "collapsed": false
   },
   "outputs": [],
   "source": [
    "import math\n",
    "\n",
    "code =  '''\n",
    "def test():\n",
    "    print(b)\n",
    "'''"
   ]
  },
  {
   "cell_type": "markdown",
   "metadata": {},
   "source": [
    "## context\n",
    "指定context后,exec生成的变量和能访问的变量都会被限制于context中"
   ]
  },
  {
   "cell_type": "code",
   "execution_count": 187,
   "metadata": {
    "collapsed": false
   },
   "outputs": [],
   "source": [
    "context_ = {'a':2}"
   ]
  },
  {
   "cell_type": "code",
   "execution_count": 188,
   "metadata": {
    "collapsed": false
   },
   "outputs": [],
   "source": [
    "exec(code, context_)"
   ]
  },
  {
   "cell_type": "markdown",
   "metadata": {},
   "source": [
    "可以找到test函数对应的context是什么，一般情况下,同级定义的函数都存在于同一个context"
   ]
  },
  {
   "cell_type": "code",
   "execution_count": 211,
   "metadata": {
    "collapsed": false
   },
   "outputs": [],
   "source": [
    "from inspect import getmembers"
   ]
  },
  {
   "cell_type": "code",
   "execution_count": 212,
   "metadata": {
    "collapsed": false
   },
   "outputs": [
    {
     "data": {
      "text/plain": [
       "<function test>"
      ]
     },
     "execution_count": 212,
     "metadata": {},
     "output_type": "execute_result"
    }
   ],
   "source": [
    "f = context_['test']\n",
    "f"
   ]
  },
  {
   "cell_type": "code",
   "execution_count": 213,
   "metadata": {
    "collapsed": false
   },
   "outputs": [
    {
     "data": {
      "text/plain": [
       "{'__builtins__': {'ArithmeticError': ArithmeticError,\n",
       "  'AssertionError': AssertionError,\n",
       "  'AttributeError': AttributeError,\n",
       "  'BaseException': BaseException,\n",
       "  'BlockingIOError': BlockingIOError,\n",
       "  'BrokenPipeError': BrokenPipeError,\n",
       "  'BufferError': BufferError,\n",
       "  'BytesWarning': BytesWarning,\n",
       "  'ChildProcessError': ChildProcessError,\n",
       "  'ConnectionAbortedError': ConnectionAbortedError,\n",
       "  'ConnectionError': ConnectionError,\n",
       "  'ConnectionRefusedError': ConnectionRefusedError,\n",
       "  'ConnectionResetError': ConnectionResetError,\n",
       "  'DeprecationWarning': DeprecationWarning,\n",
       "  'EOFError': EOFError,\n",
       "  'Ellipsis': Ellipsis,\n",
       "  'EnvironmentError': OSError,\n",
       "  'Exception': Exception,\n",
       "  'False': False,\n",
       "  'FileExistsError': FileExistsError,\n",
       "  'FileNotFoundError': FileNotFoundError,\n",
       "  'FloatingPointError': FloatingPointError,\n",
       "  'FutureWarning': FutureWarning,\n",
       "  'GeneratorExit': GeneratorExit,\n",
       "  'IOError': OSError,\n",
       "  'ImportError': ImportError,\n",
       "  'ImportWarning': ImportWarning,\n",
       "  'IndentationError': IndentationError,\n",
       "  'IndexError': IndexError,\n",
       "  'InterruptedError': InterruptedError,\n",
       "  'IsADirectoryError': IsADirectoryError,\n",
       "  'KeyError': KeyError,\n",
       "  'KeyboardInterrupt': KeyboardInterrupt,\n",
       "  'LookupError': LookupError,\n",
       "  'MemoryError': MemoryError,\n",
       "  'NameError': NameError,\n",
       "  'None': None,\n",
       "  'NotADirectoryError': NotADirectoryError,\n",
       "  'NotImplemented': NotImplemented,\n",
       "  'NotImplementedError': NotImplementedError,\n",
       "  'OSError': OSError,\n",
       "  'OverflowError': OverflowError,\n",
       "  'PendingDeprecationWarning': PendingDeprecationWarning,\n",
       "  'PermissionError': PermissionError,\n",
       "  'ProcessLookupError': ProcessLookupError,\n",
       "  'RecursionError': RecursionError,\n",
       "  'ReferenceError': ReferenceError,\n",
       "  'ResourceWarning': ResourceWarning,\n",
       "  'RuntimeError': RuntimeError,\n",
       "  'RuntimeWarning': RuntimeWarning,\n",
       "  'StopAsyncIteration': StopAsyncIteration,\n",
       "  'StopIteration': StopIteration,\n",
       "  'SyntaxError': SyntaxError,\n",
       "  'SyntaxWarning': SyntaxWarning,\n",
       "  'SystemError': SystemError,\n",
       "  'SystemExit': SystemExit,\n",
       "  'TabError': TabError,\n",
       "  'TimeoutError': TimeoutError,\n",
       "  'True': True,\n",
       "  'TypeError': TypeError,\n",
       "  'UnboundLocalError': UnboundLocalError,\n",
       "  'UnicodeDecodeError': UnicodeDecodeError,\n",
       "  'UnicodeEncodeError': UnicodeEncodeError,\n",
       "  'UnicodeError': UnicodeError,\n",
       "  'UnicodeTranslateError': UnicodeTranslateError,\n",
       "  'UnicodeWarning': UnicodeWarning,\n",
       "  'UserWarning': UserWarning,\n",
       "  'ValueError': ValueError,\n",
       "  'Warning': Warning,\n",
       "  'ZeroDivisionError': ZeroDivisionError,\n",
       "  '__IPYTHON__': True,\n",
       "  '__build_class__': <function __build_class__>,\n",
       "  '__debug__': True,\n",
       "  '__doc__': \"Built-in functions, exceptions, and other objects.\\n\\nNoteworthy: None is the `nil' object; Ellipsis represents `...' in slices.\",\n",
       "  '__import__': <function __import__>,\n",
       "  '__loader__': _frozen_importlib.BuiltinImporter,\n",
       "  '__name__': 'builtins',\n",
       "  '__package__': '',\n",
       "  '__spec__': ModuleSpec(name='builtins', loader=<class '_frozen_importlib.BuiltinImporter'>),\n",
       "  'abs': <function abs>,\n",
       "  'all': <function all>,\n",
       "  'any': <function any>,\n",
       "  'ascii': <function ascii>,\n",
       "  'bin': <function bin>,\n",
       "  'bool': bool,\n",
       "  'bytearray': bytearray,\n",
       "  'bytes': bytes,\n",
       "  'callable': <function callable>,\n",
       "  'chr': <function chr>,\n",
       "  'classmethod': classmethod,\n",
       "  'compile': <function compile>,\n",
       "  'complex': complex,\n",
       "  'copyright': Copyright (c) 2001-2016 Python Software Foundation.\n",
       "  All Rights Reserved.\n",
       "  \n",
       "  Copyright (c) 2000 BeOpen.com.\n",
       "  All Rights Reserved.\n",
       "  \n",
       "  Copyright (c) 1995-2001 Corporation for National Research Initiatives.\n",
       "  All Rights Reserved.\n",
       "  \n",
       "  Copyright (c) 1991-1995 Stichting Mathematisch Centrum, Amsterdam.\n",
       "  All Rights Reserved.,\n",
       "  'credits':     Thanks to CWI, CNRI, BeOpen.com, Zope Corporation and a cast of thousands\n",
       "      for supporting Python development.  See www.python.org for more information.,\n",
       "  'delattr': <function delattr>,\n",
       "  'dict': dict,\n",
       "  'dir': <function dir>,\n",
       "  'divmod': <function divmod>,\n",
       "  'dreload': <function IPython.lib.deepreload._dreload>,\n",
       "  'enumerate': enumerate,\n",
       "  'eval': <function eval>,\n",
       "  'exec': <function exec>,\n",
       "  'filter': filter,\n",
       "  'float': float,\n",
       "  'format': <function format>,\n",
       "  'frozenset': frozenset,\n",
       "  'get_ipython': <bound method InteractiveShell.get_ipython of <ipykernel.zmqshell.ZMQInteractiveShell object at 0x7f63135adeb8>>,\n",
       "  'getattr': <function getattr>,\n",
       "  'globals': <function globals>,\n",
       "  'hasattr': <function hasattr>,\n",
       "  'hash': <function hash>,\n",
       "  'help': Type help() for interactive help, or help(object) for help about object.,\n",
       "  'hex': <function hex>,\n",
       "  'id': <function id>,\n",
       "  'input': <bound method Kernel.raw_input of <ipykernel.ipkernel.IPythonKernel object at 0x7f63135adda0>>,\n",
       "  'int': int,\n",
       "  'isinstance': <function isinstance>,\n",
       "  'issubclass': <function issubclass>,\n",
       "  'iter': <function iter>,\n",
       "  'len': <function len>,\n",
       "  'license': Type license() to see the full license text,\n",
       "  'list': list,\n",
       "  'locals': <function locals>,\n",
       "  'map': map,\n",
       "  'max': <function max>,\n",
       "  'memoryview': memoryview,\n",
       "  'min': <function min>,\n",
       "  'next': <function next>,\n",
       "  'object': object,\n",
       "  'oct': <function oct>,\n",
       "  'open': <function io.open>,\n",
       "  'ord': <function ord>,\n",
       "  'pow': <function pow>,\n",
       "  'print': <function print>,\n",
       "  'property': property,\n",
       "  'range': range,\n",
       "  'repr': <function repr>,\n",
       "  'reversed': reversed,\n",
       "  'round': <function round>,\n",
       "  'set': set,\n",
       "  'setattr': <function setattr>,\n",
       "  'slice': slice,\n",
       "  'sorted': <function sorted>,\n",
       "  'staticmethod': staticmethod,\n",
       "  'str': str,\n",
       "  'sum': <function sum>,\n",
       "  'super': super,\n",
       "  'tuple': tuple,\n",
       "  'type': type,\n",
       "  'vars': <function vars>,\n",
       "  'zip': zip},\n",
       " 'a': 2,\n",
       " 'test': <function test>}"
      ]
     },
     "execution_count": 213,
     "metadata": {},
     "output_type": "execute_result"
    }
   ],
   "source": [
    "[t for t in getmembers(f) if t[0]=='__globals__'][0][1]"
   ]
  },
  {
   "cell_type": "code",
   "execution_count": 214,
   "metadata": {
    "collapsed": false
   },
   "outputs": [
    {
     "data": {
      "text/plain": [
       "[('__annotations__', {}),\n",
       " ('__call__',\n",
       "  <method-wrapper '__call__' of function object at 0x7f631041dae8>),\n",
       " ('__class__', function),\n",
       " ('__closure__', None),\n",
       " ('__code__', <code object test at 0x7f63103d0300, file \"<string>\", line 2>),\n",
       " ('__defaults__', None),\n",
       " ('__delattr__',\n",
       "  <method-wrapper '__delattr__' of function object at 0x7f631041dae8>),\n",
       " ('__dict__', {}),\n",
       " ('__dir__', <function function.__dir__>),\n",
       " ('__doc__', None),\n",
       " ('__eq__', <method-wrapper '__eq__' of function object at 0x7f631041dae8>),\n",
       " ('__format__', <function function.__format__>),\n",
       " ('__ge__', <method-wrapper '__ge__' of function object at 0x7f631041dae8>),\n",
       " ('__get__', <method-wrapper '__get__' of function object at 0x7f631041dae8>),\n",
       " ('__getattribute__',\n",
       "  <method-wrapper '__getattribute__' of function object at 0x7f631041dae8>),\n",
       " ('__globals__',\n",
       "  {'__builtins__': {'ArithmeticError': ArithmeticError,\n",
       "    'AssertionError': AssertionError,\n",
       "    'AttributeError': AttributeError,\n",
       "    'BaseException': BaseException,\n",
       "    'BlockingIOError': BlockingIOError,\n",
       "    'BrokenPipeError': BrokenPipeError,\n",
       "    'BufferError': BufferError,\n",
       "    'BytesWarning': BytesWarning,\n",
       "    'ChildProcessError': ChildProcessError,\n",
       "    'ConnectionAbortedError': ConnectionAbortedError,\n",
       "    'ConnectionError': ConnectionError,\n",
       "    'ConnectionRefusedError': ConnectionRefusedError,\n",
       "    'ConnectionResetError': ConnectionResetError,\n",
       "    'DeprecationWarning': DeprecationWarning,\n",
       "    'EOFError': EOFError,\n",
       "    'Ellipsis': Ellipsis,\n",
       "    'EnvironmentError': OSError,\n",
       "    'Exception': Exception,\n",
       "    'False': False,\n",
       "    'FileExistsError': FileExistsError,\n",
       "    'FileNotFoundError': FileNotFoundError,\n",
       "    'FloatingPointError': FloatingPointError,\n",
       "    'FutureWarning': FutureWarning,\n",
       "    'GeneratorExit': GeneratorExit,\n",
       "    'IOError': OSError,\n",
       "    'ImportError': ImportError,\n",
       "    'ImportWarning': ImportWarning,\n",
       "    'IndentationError': IndentationError,\n",
       "    'IndexError': IndexError,\n",
       "    'InterruptedError': InterruptedError,\n",
       "    'IsADirectoryError': IsADirectoryError,\n",
       "    'KeyError': KeyError,\n",
       "    'KeyboardInterrupt': KeyboardInterrupt,\n",
       "    'LookupError': LookupError,\n",
       "    'MemoryError': MemoryError,\n",
       "    'NameError': NameError,\n",
       "    'None': None,\n",
       "    'NotADirectoryError': NotADirectoryError,\n",
       "    'NotImplemented': NotImplemented,\n",
       "    'NotImplementedError': NotImplementedError,\n",
       "    'OSError': OSError,\n",
       "    'OverflowError': OverflowError,\n",
       "    'PendingDeprecationWarning': PendingDeprecationWarning,\n",
       "    'PermissionError': PermissionError,\n",
       "    'ProcessLookupError': ProcessLookupError,\n",
       "    'RecursionError': RecursionError,\n",
       "    'ReferenceError': ReferenceError,\n",
       "    'ResourceWarning': ResourceWarning,\n",
       "    'RuntimeError': RuntimeError,\n",
       "    'RuntimeWarning': RuntimeWarning,\n",
       "    'StopAsyncIteration': StopAsyncIteration,\n",
       "    'StopIteration': StopIteration,\n",
       "    'SyntaxError': SyntaxError,\n",
       "    'SyntaxWarning': SyntaxWarning,\n",
       "    'SystemError': SystemError,\n",
       "    'SystemExit': SystemExit,\n",
       "    'TabError': TabError,\n",
       "    'TimeoutError': TimeoutError,\n",
       "    'True': True,\n",
       "    'TypeError': TypeError,\n",
       "    'UnboundLocalError': UnboundLocalError,\n",
       "    'UnicodeDecodeError': UnicodeDecodeError,\n",
       "    'UnicodeEncodeError': UnicodeEncodeError,\n",
       "    'UnicodeError': UnicodeError,\n",
       "    'UnicodeTranslateError': UnicodeTranslateError,\n",
       "    'UnicodeWarning': UnicodeWarning,\n",
       "    'UserWarning': UserWarning,\n",
       "    'ValueError': ValueError,\n",
       "    'Warning': Warning,\n",
       "    'ZeroDivisionError': ZeroDivisionError,\n",
       "    '__IPYTHON__': True,\n",
       "    '__build_class__': <function __build_class__>,\n",
       "    '__debug__': True,\n",
       "    '__doc__': \"Built-in functions, exceptions, and other objects.\\n\\nNoteworthy: None is the `nil' object; Ellipsis represents `...' in slices.\",\n",
       "    '__import__': <function __import__>,\n",
       "    '__loader__': _frozen_importlib.BuiltinImporter,\n",
       "    '__name__': 'builtins',\n",
       "    '__package__': '',\n",
       "    '__spec__': ModuleSpec(name='builtins', loader=<class '_frozen_importlib.BuiltinImporter'>),\n",
       "    'abs': <function abs>,\n",
       "    'all': <function all>,\n",
       "    'any': <function any>,\n",
       "    'ascii': <function ascii>,\n",
       "    'bin': <function bin>,\n",
       "    'bool': bool,\n",
       "    'bytearray': bytearray,\n",
       "    'bytes': bytes,\n",
       "    'callable': <function callable>,\n",
       "    'chr': <function chr>,\n",
       "    'classmethod': classmethod,\n",
       "    'compile': <function compile>,\n",
       "    'complex': complex,\n",
       "    'copyright': Copyright (c) 2001-2016 Python Software Foundation.\n",
       "    All Rights Reserved.\n",
       "    \n",
       "    Copyright (c) 2000 BeOpen.com.\n",
       "    All Rights Reserved.\n",
       "    \n",
       "    Copyright (c) 1995-2001 Corporation for National Research Initiatives.\n",
       "    All Rights Reserved.\n",
       "    \n",
       "    Copyright (c) 1991-1995 Stichting Mathematisch Centrum, Amsterdam.\n",
       "    All Rights Reserved.,\n",
       "    'credits':     Thanks to CWI, CNRI, BeOpen.com, Zope Corporation and a cast of thousands\n",
       "        for supporting Python development.  See www.python.org for more information.,\n",
       "    'delattr': <function delattr>,\n",
       "    'dict': dict,\n",
       "    'dir': <function dir>,\n",
       "    'divmod': <function divmod>,\n",
       "    'dreload': <function IPython.lib.deepreload._dreload>,\n",
       "    'enumerate': enumerate,\n",
       "    'eval': <function eval>,\n",
       "    'exec': <function exec>,\n",
       "    'filter': filter,\n",
       "    'float': float,\n",
       "    'format': <function format>,\n",
       "    'frozenset': frozenset,\n",
       "    'get_ipython': <bound method InteractiveShell.get_ipython of <ipykernel.zmqshell.ZMQInteractiveShell object at 0x7f63135adeb8>>,\n",
       "    'getattr': <function getattr>,\n",
       "    'globals': <function globals>,\n",
       "    'hasattr': <function hasattr>,\n",
       "    'hash': <function hash>,\n",
       "    'help': Type help() for interactive help, or help(object) for help about object.,\n",
       "    'hex': <function hex>,\n",
       "    'id': <function id>,\n",
       "    'input': <bound method Kernel.raw_input of <ipykernel.ipkernel.IPythonKernel object at 0x7f63135adda0>>,\n",
       "    'int': int,\n",
       "    'isinstance': <function isinstance>,\n",
       "    'issubclass': <function issubclass>,\n",
       "    'iter': <function iter>,\n",
       "    'len': <function len>,\n",
       "    'license': Type license() to see the full license text,\n",
       "    'list': list,\n",
       "    'locals': <function locals>,\n",
       "    'map': map,\n",
       "    'max': <function max>,\n",
       "    'memoryview': memoryview,\n",
       "    'min': <function min>,\n",
       "    'next': <function next>,\n",
       "    'object': object,\n",
       "    'oct': <function oct>,\n",
       "    'open': <function io.open>,\n",
       "    'ord': <function ord>,\n",
       "    'pow': <function pow>,\n",
       "    'print': <function print>,\n",
       "    'property': property,\n",
       "    'range': range,\n",
       "    'repr': <function repr>,\n",
       "    'reversed': reversed,\n",
       "    'round': <function round>,\n",
       "    'set': set,\n",
       "    'setattr': <function setattr>,\n",
       "    'slice': slice,\n",
       "    'sorted': <function sorted>,\n",
       "    'staticmethod': staticmethod,\n",
       "    'str': str,\n",
       "    'sum': <function sum>,\n",
       "    'super': super,\n",
       "    'tuple': tuple,\n",
       "    'type': type,\n",
       "    'vars': <function vars>,\n",
       "    'zip': zip},\n",
       "   'a': 2,\n",
       "   'test': <function test>}),\n",
       " ('__gt__', <method-wrapper '__gt__' of function object at 0x7f631041dae8>),\n",
       " ('__hash__',\n",
       "  <method-wrapper '__hash__' of function object at 0x7f631041dae8>),\n",
       " ('__init__',\n",
       "  <method-wrapper '__init__' of function object at 0x7f631041dae8>),\n",
       " ('__kwdefaults__', None),\n",
       " ('__le__', <method-wrapper '__le__' of function object at 0x7f631041dae8>),\n",
       " ('__lt__', <method-wrapper '__lt__' of function object at 0x7f631041dae8>),\n",
       " ('__module__', None),\n",
       " ('__name__', 'test'),\n",
       " ('__ne__', <method-wrapper '__ne__' of function object at 0x7f631041dae8>),\n",
       " ('__new__', <function function.__new__>),\n",
       " ('__qualname__', 'test'),\n",
       " ('__reduce__', <function function.__reduce__>),\n",
       " ('__reduce_ex__', <function function.__reduce_ex__>),\n",
       " ('__repr__',\n",
       "  <method-wrapper '__repr__' of function object at 0x7f631041dae8>),\n",
       " ('__setattr__',\n",
       "  <method-wrapper '__setattr__' of function object at 0x7f631041dae8>),\n",
       " ('__sizeof__', <function function.__sizeof__>),\n",
       " ('__str__', <method-wrapper '__str__' of function object at 0x7f631041dae8>),\n",
       " ('__subclasshook__', <function function.__subclasshook__>)]"
      ]
     },
     "execution_count": 214,
     "metadata": {},
     "output_type": "execute_result"
    }
   ],
   "source": [
    "getmembers(f)"
   ]
  },
  {
   "cell_type": "code",
   "execution_count": 217,
   "metadata": {
    "collapsed": false
   },
   "outputs": [
    {
     "ename": "NameError",
     "evalue": "name '__file__' is not defined",
     "output_type": "error",
     "traceback": [
      "\u001b[0;31m---------------------------------------------------------------------------\u001b[0m",
      "\u001b[0;31mNameError\u001b[0m                                 Traceback (most recent call last)",
      "\u001b[0;32m<ipython-input-217-cf64dc7fb808>\u001b[0m in \u001b[0;36m<module>\u001b[0;34m()\u001b[0m\n\u001b[0;32m----> 1\u001b[0;31m \u001b[0mprint\u001b[0m\u001b[0;34m(\u001b[0m\u001b[0m__file__\u001b[0m\u001b[0;34m)\u001b[0m\u001b[0;34m\u001b[0m\u001b[0m\n\u001b[0m",
      "\u001b[0;31mNameError\u001b[0m: name '__file__' is not defined"
     ]
    }
   ],
   "source": [
    "print(__file__)"
   ]
  },
  {
   "cell_type": "code",
   "execution_count": 218,
   "metadata": {
    "collapsed": true
   },
   "outputs": [],
   "source": [
    "import os"
   ]
  },
  {
   "cell_type": "code",
   "execution_count": 219,
   "metadata": {
    "collapsed": false
   },
   "outputs": [
    {
     "data": {
      "text/plain": [
       "'/usr/lib/python3.5'"
      ]
     },
     "execution_count": 219,
     "metadata": {},
     "output_type": "execute_result"
    }
   ],
   "source": [
    "os.path.dirname('/usr/lib/python3.5/posixpath.py')"
   ]
  },
  {
   "cell_type": "code",
   "execution_count": 221,
   "metadata": {
    "collapsed": false
   },
   "outputs": [],
   "source": [
    "import sys"
   ]
  },
  {
   "cell_type": "code",
   "execution_count": 223,
   "metadata": {
    "collapsed": true
   },
   "outputs": [],
   "source": [
    "from functools import wraps"
   ]
  },
  {
   "cell_type": "code",
   "execution_count": 254,
   "metadata": {
    "collapsed": true
   },
   "outputs": [],
   "source": [
    "class Test():\n",
    "    def __init__(self):\n",
    "        pass\n",
    "    \n",
    "    def __enter__(self):\n",
    "        print('enter context')\n",
    "        \n",
    "    def __exit__(self,a,b,c):\n",
    "        print('Leave context')\n",
    "        \n",
    "test = Test()"
   ]
  },
  {
   "cell_type": "code",
   "execution_count": 255,
   "metadata": {
    "collapsed": false
   },
   "outputs": [
    {
     "name": "stdout",
     "output_type": "stream",
     "text": [
      "enter context\n",
      "Leave context\n"
     ]
    }
   ],
   "source": [
    "with Test() as test:\n",
    "    pass"
   ]
  },
  {
   "cell_type": "markdown",
   "metadata": {},
   "source": [
    "## special method"
   ]
  },
  {
   "cell_type": "code",
   "execution_count": 4,
   "metadata": {
    "collapsed": true
   },
   "outputs": [],
   "source": [
    "class test():\n",
    "    def __getattr__(self,s):\n",
    "        return s*2"
   ]
  },
  {
   "cell_type": "code",
   "execution_count": 5,
   "metadata": {
    "collapsed": false
   },
   "outputs": [
    {
     "data": {
      "text/plain": [
       "'bb'"
      ]
     },
     "execution_count": 5,
     "metadata": {},
     "output_type": "execute_result"
    }
   ],
   "source": [
    "t = test()\n",
    "t.b"
   ]
  },
  {
   "cell_type": "markdown",
   "metadata": {},
   "source": [
    "## Descriptor"
   ]
  },
  {
   "cell_type": "code",
   "execution_count": 25,
   "metadata": {
    "collapsed": false
   },
   "outputs": [],
   "source": [
    "class D():\n",
    "    def __init__(self,name):\n",
    "        pass\n",
    "        \n",
    "    def __get__(self, instance):\n",
    "        return '***'+getattr(instance,self.name)+'***'\n",
    "\n",
    "class Test():\n",
    "    slots = ['a']\n",
    "    \n",
    "    b = D('a')\n",
    "    \n",
    "    def __init__(self,a):\n",
    "        self.a = a"
   ]
  },
  {
   "cell_type": "code",
   "execution_count": 26,
   "metadata": {
    "collapsed": false
   },
   "outputs": [
    {
     "ename": "TypeError",
     "evalue": "__get__() takes 2 positional arguments but 3 were given",
     "output_type": "error",
     "traceback": [
      "\u001b[0;31m---------------------------------------------------------------------------\u001b[0m",
      "\u001b[0;31mTypeError\u001b[0m                                 Traceback (most recent call last)",
      "\u001b[0;32m<ipython-input-26-a3a6e490be4d>\u001b[0m in \u001b[0;36m<module>\u001b[0;34m()\u001b[0m\n\u001b[1;32m      1\u001b[0m \u001b[0mt\u001b[0m \u001b[0;34m=\u001b[0m \u001b[0mTest\u001b[0m\u001b[0;34m(\u001b[0m\u001b[0;34m'hello'\u001b[0m\u001b[0;34m)\u001b[0m\u001b[0;34m\u001b[0m\u001b[0m\n\u001b[0;32m----> 2\u001b[0;31m \u001b[0mt\u001b[0m\u001b[0;34m.\u001b[0m\u001b[0mb\u001b[0m\u001b[0;34m\u001b[0m\u001b[0m\n\u001b[0m",
      "\u001b[0;31mTypeError\u001b[0m: __get__() takes 2 positional arguments but 3 were given"
     ]
    }
   ],
   "source": [
    "t = Test('hello')\n",
    "t.b"
   ]
  },
  {
   "cell_type": "code",
   "execution_count": 27,
   "metadata": {
    "collapsed": true
   },
   "outputs": [],
   "source": [
    "class Descriptor:\n",
    "    def __get__(self, instance, owner):\n",
    "        print(self, instance, owner)\n",
    "    def __set__(self, instance, value):\n",
    "        print(self, instance, value)\n",
    "    def __delete__(self, instance):\n",
    "        print(self, instance)\n",
    "\n",
    "class Some:\n",
    "    x = Descriptor()"
   ]
  },
  {
   "cell_type": "code",
   "execution_count": null,
   "metadata": {
    "collapsed": true
   },
   "outputs": [],
   "source": []
  }
 ],
 "metadata": {
  "kernelspec": {
   "display_name": "Python 3",
   "language": "python",
   "name": "python3"
  },
  "language_info": {
   "codemirror_mode": {
    "name": "ipython",
    "version": 3
   },
   "file_extension": ".py",
   "mimetype": "text/x-python",
   "name": "python",
   "nbconvert_exporter": "python",
   "pygments_lexer": "ipython3",
   "version": "3.5.2"
  }
 },
 "nbformat": 4,
 "nbformat_minor": 0
}
