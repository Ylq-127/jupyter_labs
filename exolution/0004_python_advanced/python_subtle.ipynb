{
 "cells": [
  {
   "cell_type": "markdown",
   "metadata": {},
   "source": [
    "# 初学者易忽略的地方\n",
    "这份notebook主要包括一些初学者使用python的时候， 容易忽略的语言特性和容易导致的错误"
   ]
  },
  {
   "cell_type": "markdown",
   "metadata": {},
   "source": [
    "## x = x op y和x op= y"
   ]
  },
  {
   "cell_type": "markdown",
   "metadata": {},
   "source": [
    "很多情况下， python对与某个运算符， 都提供了x = x op y和x op= y两种用法(这里op代表+,-,*,/等运算符， 对于不同的数据类型， 它们的功能不一样)。表面看他们的效果是一样的， 例如下面的例子"
   ]
  },
  {
   "cell_type": "code",
   "execution_count": 4,
   "metadata": {
    "collapsed": false
   },
   "outputs": [
    {
     "name": "stdout",
     "output_type": "stream",
     "text": [
      "['a', 'b', 'c', 'd'] ['a', 'b', 'c', 'd']\n"
     ]
    }
   ],
   "source": [
    "a = ['a','b']\n",
    "a = a+['c','d']\n",
    "\n",
    "b = ['a','b']\n",
    "b += ['c', 'd']\n",
    "\n",
    "print(a, b)"
   ]
  },
  {
   "cell_type": "markdown",
   "metadata": {},
   "source": [
    "看上去两种方式都是让[3, 4]连接到[1, 2]上， 但是实际上， ```b += ['c','d']```直接修改了b， 而```a = a+['c','d']```则是将计算结果存在memory中的另一个空间， 然后让a重新指向这个地址。 可以用下面代码来验证这点。"
   ]
  },
  {
   "cell_type": "code",
   "execution_count": 5,
   "metadata": {
    "collapsed": false
   },
   "outputs": [
    {
     "name": "stdout",
     "output_type": "stream",
     "text": [
      "False ['a', 'b']\n",
      "True ['a', 'b', 'c', 'd']\n"
     ]
    }
   ],
   "source": [
    "a = ['a','b']\n",
    "origin = a\n",
    "a = a+['c','d']\n",
    "print(a is origin, origin)\n",
    "\n",
    "b = ['a','b']\n",
    "origin = b\n",
    "b += ['c', 'd']\n",
    "print(b is origin, origin)"
   ]
  },
  {
   "cell_type": "markdown",
   "metadata": {},
   "source": [
    "origin指向的位置是a一开始创建的时候在内存中的数据。 \n",
    "\n",
    "第一段代码中， a指向的数据内存位置发生了改变， 因此a, origin的内容最终不一致。 \n",
    "\n",
    "第二部分代码中， a和origin始终指向同样内存位置的数据, a对自己的修改也影响到了origin。\n",
    "\n",
    "如果进行更多的实验， 容易发现对于mutable类型的变量x, **x op= y **会直接修改**x**， 而**x = x op y **则会创建新的数据后重新和**x**绑定。\n",
    "\n",
    "不过对于immutalbe类型的变量**x**, 这两种方法的表现是一致的， 都是内存中创建新的数据后， 重新将内存数据和**x**绑定。 用下面的代码演示这点， 注意这里将list(mutable)换成了tuple(immutable)"
   ]
  },
  {
   "cell_type": "code",
   "execution_count": 8,
   "metadata": {
    "collapsed": false
   },
   "outputs": [
    {
     "name": "stdout",
     "output_type": "stream",
     "text": [
      "False ('a', 'b')\n",
      "False ('a', 'b')\n"
     ]
    }
   ],
   "source": [
    "a = ('a','b')\n",
    "origin = a\n",
    "a = a+('c','d')\n",
    "print(a is origin, origin)\n",
    "\n",
    "b = ('a','b')\n",
    "origin = b\n",
    "b += ('c', 'd')\n",
    "print(b is origin, origin)"
   ]
  },
  {
   "cell_type": "markdown",
   "metadata": {},
   "source": [
    "## 默认值为空list的陷阱"
   ]
  },
  {
   "cell_type": "code",
   "execution_count": null,
   "metadata": {
    "collapsed": true
   },
   "outputs": [],
   "source": [
    "这里写一个函数， 这个函数接受一个list作为变量， 并且在这个list中添加一个当前的时间后返回这个list。 如果没有传入任何变量，那么用空的list作为默认值。"
   ]
  },
  {
   "cell_type": "code",
   "execution_count": 40,
   "metadata": {
    "collapsed": false
   },
   "outputs": [],
   "source": [
    "from datetime import datetime\n",
    "def append_time(b = []):\n",
    "    b.append(datetime.strftime(datetime.now(),'%H:%M:%S'))\n",
    "    return b"
   ]
  },
  {
   "cell_type": "code",
   "execution_count": 41,
   "metadata": {
    "collapsed": false
   },
   "outputs": [
    {
     "name": "stdout",
     "output_type": "stream",
     "text": [
      "['04:58:25']\n"
     ]
    }
   ],
   "source": [
    "print(append_time())"
   ]
  },
  {
   "cell_type": "code",
   "execution_count": null,
   "metadata": {
    "collapsed": true
   },
   "outputs": [],
   "source": [
    "运行一次后看上去很正常， 但是如果我们再次运行这个函数。"
   ]
  },
  {
   "cell_type": "code",
   "execution_count": 42,
   "metadata": {
    "collapsed": false
   },
   "outputs": [
    {
     "name": "stdout",
     "output_type": "stream",
     "text": [
      "['04:58:25', '04:58:27']\n"
     ]
    }
   ],
   "source": [
    "print(append_time())"
   ]
  },
  {
   "cell_type": "code",
   "execution_count": null,
   "metadata": {
    "collapsed": true
   },
   "outputs": [],
   "source": [
    "可以发现， 这个函数并没有把之前的运行的结果清空。"
   ]
  },
  {
   "cell_type": "markdown",
   "metadata": {},
   "source": [
    "这是因为在之前的代码中, b = []只是在函数被定义的时候执行， 在内存中创建了这个空list， 此后每次运行这个函数的时候， b的默认值都指向了内存中这个list的位置。 因此多次运行函数对这个list的影响都会被保留下来。\n",
    "\n",
    "如果希望每次运行函数， 都让b的默认值是空list， 需要将生成空list的语句放在函数体内。"
   ]
  },
  {
   "cell_type": "code",
   "execution_count": 43,
   "metadata": {
    "collapsed": true
   },
   "outputs": [],
   "source": [
    "def append_time(b = None):\n",
    "    b = [] if b is None else b\n",
    "    b.append(datetime.strftime(datetime.now(),'%H:%M:%S'))\n",
    "    return b"
   ]
  },
  {
   "cell_type": "code",
   "execution_count": null,
   "metadata": {
    "collapsed": true
   },
   "outputs": [],
   "source": [
    "执行一次没问题"
   ]
  },
  {
   "cell_type": "code",
   "execution_count": 44,
   "metadata": {
    "collapsed": false
   },
   "outputs": [
    {
     "name": "stdout",
     "output_type": "stream",
     "text": [
      "['04:58:53']\n"
     ]
    }
   ],
   "source": [
    "print(append_time())"
   ]
  },
  {
   "cell_type": "code",
   "execution_count": null,
   "metadata": {
    "collapsed": true
   },
   "outputs": [],
   "source": [
    "再执行一次， 也没问题"
   ]
  },
  {
   "cell_type": "code",
   "execution_count": 45,
   "metadata": {
    "collapsed": false
   },
   "outputs": [
    {
     "name": "stdout",
     "output_type": "stream",
     "text": [
      "['04:59:16']\n"
     ]
    }
   ],
   "source": [
    "print(append_time())"
   ]
  },
  {
   "cell_type": "markdown",
   "metadata": {},
   "source": [
    "## 逻辑运算符and, or"
   ]
  },
  {
   "cell_type": "code",
   "execution_count": null,
   "metadata": {
    "collapsed": true
   },
   "outputs": [],
   "source": [
    "用在if语句中的时候， 0相当于False, 其他值相当于True; 空list相当于False, 有任何内容的list相当于True等规则相信大家是比较熟悉的， 因此不难判断下面语句的执行结果。"
   ]
  },
  {
   "cell_type": "code",
   "execution_count": 49,
   "metadata": {
    "collapsed": false
   },
   "outputs": [
    {
     "name": "stdout",
     "output_type": "stream",
     "text": [
      "Evaluated as True\n",
      "Evaluated as False\n"
     ]
    }
   ],
   "source": [
    "if 3 and -1:\n",
    "    print('Evaluated as True')\n",
    "else:\n",
    "    print('Evaluated as False')    \n",
    "    \n",
    "if [] and 6:\n",
    "    print('Evaluated as True')\n",
    "else:\n",
    "    print('Evaluated as False')"
   ]
  },
  {
   "cell_type": "markdown",
   "metadata": {},
   "source": [
    "但是这里要注意的是， and, or并不是真的返回True, False的结果， 而是返回第一个逻辑表达式中能够决定真假值的object(采用short circuit方式)"
   ]
  },
  {
   "cell_type": "code",
   "execution_count": 50,
   "metadata": {
    "collapsed": false
   },
   "outputs": [
    {
     "name": "stdout",
     "output_type": "stream",
     "text": [
      "-1\n",
      "[]\n"
     ]
    }
   ],
   "source": [
    "print(3 and -1)\n",
    "print([] and 6)"
   ]
  },
  {
   "cell_type": "markdown",
   "metadata": {},
   "source": [
    "如果真的需要对应的boolean值的话， 需要用bool转化一下"
   ]
  },
  {
   "cell_type": "code",
   "execution_count": 51,
   "metadata": {
    "collapsed": false
   },
   "outputs": [
    {
     "name": "stdout",
     "output_type": "stream",
     "text": [
      "True\n",
      "False\n"
     ]
    }
   ],
   "source": [
    "print(bool(3 and -1))\n",
    "print(bool([] and 6))"
   ]
  }
 ],
 "metadata": {
  "kernelspec": {
   "display_name": "Python 3",
   "language": "python",
   "name": "python3"
  },
  "language_info": {
   "codemirror_mode": {
    "name": "ipython",
    "version": 3
   },
   "file_extension": ".py",
   "mimetype": "text/x-python",
   "name": "python",
   "nbconvert_exporter": "python",
   "pygments_lexer": "ipython3",
   "version": "3.5.2"
  }
 },
 "nbformat": 4,
 "nbformat_minor": 0
}
